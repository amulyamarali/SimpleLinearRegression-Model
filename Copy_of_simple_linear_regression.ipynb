{
  "nbformat": 4,
  "nbformat_minor": 0,
  "metadata": {
    "colab": {
      "name": "Copy of simple_linear_regression.ipynb",
      "provenance": [],
      "collapsed_sections": [],
      "include_colab_link": true
    },
    "kernelspec": {
      "name": "python3",
      "display_name": "Python 3"
    }
  },
  "cells": [
    {
      "cell_type": "markdown",
      "metadata": {
        "id": "view-in-github",
        "colab_type": "text"
      },
      "source": [
        "<a href=\"https://colab.research.google.com/github/amulyamarali/SimpleLinearRegression-Model/blob/main/Copy_of_simple_linear_regression.ipynb\" target=\"_parent\"><img src=\"https://colab.research.google.com/assets/colab-badge.svg\" alt=\"Open In Colab\"/></a>"
      ]
    },
    {
      "cell_type": "markdown",
      "metadata": {
        "id": "l_LulNCC8z96"
      },
      "source": [
        "# Simple Linear Regression"
      ]
    },
    {
      "cell_type": "markdown",
      "metadata": {
        "id": "xpXdowrE9DxW"
      },
      "source": [
        "## Importing the libraries"
      ]
    },
    {
      "cell_type": "code",
      "source": [
        "import numpy as np\n",
        "import matplotlib.pyplot as plt\n",
        "import pandas as pd"
      ],
      "metadata": {
        "id": "SE_WCfKaO8ZP"
      },
      "execution_count": 1,
      "outputs": []
    },
    {
      "cell_type": "markdown",
      "metadata": {
        "id": "6JhpWJi59J1p"
      },
      "source": [
        "## Importing the dataset"
      ]
    },
    {
      "cell_type": "code",
      "source": [
        "dataset = pd.read_csv(\"Salary_Data.csv\")\n",
        "x = dataset.iloc[:,:-1].values\n",
        "y = dataset.iloc[:,-1].values"
      ],
      "metadata": {
        "id": "gfW3b0GLO9pO"
      },
      "execution_count": 3,
      "outputs": []
    },
    {
      "cell_type": "markdown",
      "metadata": {
        "id": "AyhQaTwP9RzG"
      },
      "source": [
        "## Splitting the dataset into the Training set and Test set"
      ]
    },
    {
      "cell_type": "code",
      "source": [
        "from sklearn.model_selection import train_test_split \n",
        "x_train, x_test, y_train, y_test = train_test_split(x,y, test_size = 0.2 , random_state = 1 )"
      ],
      "metadata": {
        "id": "jdDY4L28PCGp"
      },
      "execution_count": 4,
      "outputs": []
    },
    {
      "cell_type": "markdown",
      "metadata": {
        "id": "ZijQwFMQ9itx"
      },
      "source": [
        "## Training the Simple Linear Regression model on the Training set"
      ]
    },
    {
      "cell_type": "code",
      "source": [
        "#import the right class \n",
        "from sklearn.linear_model import LinearRegression\n",
        "# sklearn is the library\n",
        "# linear_model is the module\n",
        "# LinearRegression is the class \n",
        "# regressor is the objest of the imorted class\n",
        "# Regression is used when u have to breed continuous real values and \n",
        "# Classification is used when we have to create a category\n",
        "\n",
        "regressor = LinearRegression() # regressor is actually the model \n",
        "\n",
        "# the method used to train the regression model is the \"fit method\"\n",
        "# the fit method will train the regression model on a training set \n",
        "regressor.fit(x_train,y_train) # fit( first the IV_train_set , second is the DV_train_set)\n",
        "# now we have the FINAL MODEL READY which is the regressor\n",
        "# now its time to predict \n"
      ],
      "metadata": {
        "colab": {
          "base_uri": "https://localhost:8080/"
        },
        "id": "dRImCkyuQNJB",
        "outputId": "37bb9bdd-9a34-4af1-ac4e-667522a172f0"
      },
      "execution_count": 7,
      "outputs": [
        {
          "output_type": "execute_result",
          "data": {
            "text/plain": [
              "LinearRegression()"
            ]
          },
          "metadata": {},
          "execution_count": 7
        }
      ]
    },
    {
      "cell_type": "markdown",
      "metadata": {
        "id": "wa2T1Lq89o5H"
      },
      "source": [
        "## Predicting the Test set results"
      ]
    },
    {
      "cell_type": "code",
      "source": [
        "# now we have the test dataset \n",
        "# we will implement the model we created on the test data to predict the salaries of the ppl in the test data set \n",
        "# then we will compare the predicted salaries to the real salaries \n",
        "y_pred = regressor.predict(x_test) # as .predict() will return iits is assigned to y_pred wich is the predicted salaries \n"
      ],
      "metadata": {
        "id": "lRnCFFyAV6W8"
      },
      "execution_count": 8,
      "outputs": []
    },
    {
      "cell_type": "code",
      "source": [
        "print(y_test)"
      ],
      "metadata": {
        "colab": {
          "base_uri": "https://localhost:8080/"
        },
        "id": "_54TEKHcXXdc",
        "outputId": "cd95b238-9ad2-49ff-8539-d20e3a02eaa5"
      },
      "execution_count": 10,
      "outputs": [
        {
          "output_type": "stream",
          "name": "stdout",
          "text": [
            "[83088. 98273. 63218. 93940. 61111. 91738.]\n"
          ]
        }
      ]
    },
    {
      "cell_type": "code",
      "source": [
        "print(y_pred)"
      ],
      "metadata": {
        "colab": {
          "base_uri": "https://localhost:8080/"
        },
        "id": "0qHQaRDMXPsv",
        "outputId": "f6cb17b2-c268-4341-a812-b992f28488e0"
      },
      "execution_count": 9,
      "outputs": [
        {
          "output_type": "stream",
          "name": "stdout",
          "text": [
            "[75074.50510972 91873.8056381  62008.38247653 81607.56642631\n",
            " 67608.14931932 89073.92221671]\n"
          ]
        }
      ]
    },
    {
      "cell_type": "markdown",
      "metadata": {
        "id": "-zSoMZ-P9v8t"
      },
      "source": [
        "## Visualising the Training set results"
      ]
    },
    {
      "cell_type": "code",
      "source": [
        "# plottig the employees on the graph using scatter plot\n",
        "# matplotlib library is used for graphical representations\n",
        "plt.scatter(x_train, y_train, color=\"red\")\n",
        "# now to plot the Simple Linear Regression Model Line\n",
        "# we should understand that the line drawn has x_train as x coordinates and y_pred as y coordinates and\n",
        "# y_pred is the predicted salary on the x_train dataset and not the x_test only here \n",
        "# or instead os y_pred v can take y_pred_train \n",
        "y_pred_train = regressor.predict(x_train)\n",
        "plt.plot(x_train , y_pred_train , color = \"blue\")\n",
        "plt.title(\"Salary VS Experience (Training Set)\")\n",
        "plt.xlabel(\"years of experience\")\n",
        "plt.ylabel(\"salary of employee\")\n",
        "plt.show # this will display the graph\n",
        "\n",
        "# CLoseness in the predicted salary and the actual salary is seen "
      ],
      "metadata": {
        "colab": {
          "base_uri": "https://localhost:8080/",
          "height": 313
        },
        "id": "f_mDahFWY8Tj",
        "outputId": "f93339b6-15a3-4151-9b31-72706f2b9e69"
      },
      "execution_count": 13,
      "outputs": [
        {
          "output_type": "execute_result",
          "data": {
            "text/plain": [
              "<function matplotlib.pyplot.show>"
            ]
          },
          "metadata": {},
          "execution_count": 13
        },
        {
          "output_type": "display_data",
          "data": {
            "text/plain": [
              "<Figure size 432x288 with 1 Axes>"
            ],
            "image/png": "[encoded data removed]"
          },
          "metadata": {
            "needs_background": "light"
          }
        }
      ]
    },
    {
      "cell_type": "markdown",
      "metadata": {
        "id": "EUX1Vhsv97ZT"
      },
      "source": [
        "## Visualising the Test set results"
      ]
    },
    {
      "cell_type": "code",
      "source": [
        "plt.scatter(x_test , y_test, color=\"red\")\n",
        "# IMPORTANT \n",
        "# we shouldn't be changing the simple linear regression model line for testing set \n",
        "# the predicted salaries from the test set will be based on the same REGRESSION LINE as that of the prdicted salaries of the train set is based  on\n",
        "# \"..............   plt.plot(x_test , y_pred , color = \"blue\") # y_pred is already determined using x_test   ..............\" ----> WILL NOT BE DONE\n",
        "plt.plot(x_train , y_pred_train , color = \"blue\") # the same regression line will be used \n",
        "plt.title(\"Salary VS Experience (Testing Set)\")\n",
        "plt.xlabel(\"years of experience\")\n",
        "plt.ylabel(\"salary of employee\")\n",
        "plt.show\n",
        "\n",
        "# we know that the model was trained on the train set but NOT the test set \n",
        "# by visualising it on TEST set we will be able to tell if the closeness is as same as it was seen in the train set\n",
        "# from the below part we get to know that the closeness between the predicted salary and the actual salary DOES exist "
      ],
      "metadata": {
        "colab": {
          "base_uri": "https://localhost:8080/",
          "height": 313
        },
        "id": "S_NWpX2obn97",
        "outputId": "751db73e-8f4e-43b6-9d91-fa73531e5f99"
      },
      "execution_count": 16,
      "outputs": [
        {
          "output_type": "execute_result",
          "data": {
            "text/plain": [
              "<function matplotlib.pyplot.show>"
            ]
          },
          "metadata": {},
          "execution_count": 16
        },
        {
          "output_type": "display_data",
          "data": {
            "text/plain": [
              "<Figure size 432x288 with 1 Axes>"
            ],
            "image/png": "[encoded data removed]"
          },
          "metadata": {
            "needs_background": "light"
          }
        }
      ]
    },
    {
      "cell_type": "code",
      "source": [
        "# NOT PART OF VISUALIZATION  ------------------------\n",
        "# but if we had changed the regression line to adopt to test data .... let's see hoe it works \n",
        "\n",
        "plt.scatter(x_test , y_test, color=\"red\")\n",
        "plt.plot(x_test , y_pred , color = \"blue\") # y_pred is already determined using x_test \n",
        "plt.title(\"Salary VS Experience (Testing Set)\")\n",
        "plt.xlabel(\"years of experience\")\n",
        "plt.ylabel(\"salary of employee\")\n",
        "plt.show\n",
        "\n",
        "# can u see that the closeness DOES NOT EXIST ....\n",
        "# this is the significace of using the smae regression line that was generated using trained set on the the test set to establish closeness bw actual salary\n",
        "# and the predicted salary in the test dataset "
      ],
      "metadata": {
        "colab": {
          "base_uri": "https://localhost:8080/",
          "height": 313
        },
        "id": "4hNq7IaKeV2O",
        "outputId": "822e3062-f791-4d7a-e2fd-04d00e3b270b"
      },
      "execution_count": 17,
      "outputs": [
        {
          "output_type": "execute_result",
          "data": {
            "text/plain": [
              "<function matplotlib.pyplot.show>"
            ]
          },
          "metadata": {},
          "execution_count": 17
        },
        {
          "output_type": "display_data",
          "data": {
            "text/plain": [
              "<Figure size 432x288 with 1 Axes>"
            ],
            "image/png": "[encoded data removed]"
          },
          "metadata": {
            "needs_background": "light"
          }
        }
      ]
    }
  ]
}